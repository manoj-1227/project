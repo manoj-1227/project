{
  "nbformat": 4,
  "nbformat_minor": 0,
  "metadata": {
    "colab": {
      "provenance": []
    },
    "kernelspec": {
      "name": "python3",
      "display_name": "Python 3"
    },
    "language_info": {
      "name": "python"
    }
  },
  "cells": [
    {
      "cell_type": "code",
      "execution_count": null,
      "metadata": {
        "id": "JePTTP35d6mC"
      },
      "outputs": [],
      "source": [
        "import streamlit as st\n",
        "import pandas as pd\n",
        "\n",
        "# Load data\n",
        "@st.cache_data\n",
        "def load_data():\n",
        "    return pd.read_csv(\"Updated_Dataset_With_Recovery_Status.csv\")\n",
        "\n",
        "df = load_data()\n",
        "\n",
        "st.title(\"Patient Dataset Dashboard\")\n",
        "\n",
        "# Filter section\n",
        "st.sidebar.header(\"Filter Records\")\n",
        "name_filter = st.sidebar.text_input(\"Search by Patient Name\")\n",
        "disease_filter = st.sidebar.selectbox(\"Select Disease\", [\"All\"] + sorted(df['Primary_Diagnosis'].dropna().unique().tolist()))\n",
        "\n",
        "# Apply filters\n",
        "filtered_df = df.copy()\n",
        "if name_filter:\n",
        "    filtered_df = filtered_df[filtered_df['Name'].str.contains(name_filter, case=False, na=False)]\n",
        "\n",
        "if disease_filter != \"All\":\n",
        "    filtered_df = filtered_df[filtered_df['Primary_Diagnosis'] == disease_filter]\n",
        "\n",
        "# Display filtered data\n",
        "st.subheader(\"Filtered Patient Records\")\n",
        "st.dataframe(filtered_df)\n",
        "\n",
        "# Show summary\n",
        "st.subheader(\"Summary Statistics\")\n",
        "st.write(filtered_df.describe(include='all'))\n",
        "\n",
        "# Download option\n",
        "st.download_button(\"Download Filtered Data\", filtered_df.to_csv(index=False), file_name=\"filtered_data.csv\")"
      ]
    }
  ]
}